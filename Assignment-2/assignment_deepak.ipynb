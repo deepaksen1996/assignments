{
 "cells": [
  {
   "cell_type": "code",
   "execution_count": 112,
   "metadata": {},
   "outputs": [],
   "source": [
    "#importing modules\n",
    "\n",
    "import numpy as np\n",
    "import pandas as pd\n",
    "import matplotlib.pyplot as plt\n",
    "\n",
    "from sklearn.metrics import mean_squared_error\n",
    "from sklearn.metrics import mean_squared_error\n",
    "from sklearn.metrics import r2_score"
   ]
  },
  {
   "cell_type": "code",
   "execution_count": 93,
   "metadata": {},
   "outputs": [],
   "source": [
    "#reading wine datasets\n",
    "\n",
    "data_red=pd.read_csv(\"winequality-red.csv\",sep=';')\n",
    "data_white=pd.read_csv(\"winequality-white.csv\",sep=\";\")\n"
   ]
  },
  {
   "cell_type": "code",
   "execution_count": 94,
   "metadata": {},
   "outputs": [
    {
     "data": {
      "text/html": [
       "<div>\n",
       "<style scoped>\n",
       "    .dataframe tbody tr th:only-of-type {\n",
       "        vertical-align: middle;\n",
       "    }\n",
       "\n",
       "    .dataframe tbody tr th {\n",
       "        vertical-align: top;\n",
       "    }\n",
       "\n",
       "    .dataframe thead th {\n",
       "        text-align: right;\n",
       "    }\n",
       "</style>\n",
       "<table border=\"1\" class=\"dataframe\">\n",
       "  <thead>\n",
       "    <tr style=\"text-align: right;\">\n",
       "      <th></th>\n",
       "      <th>unit_matriix</th>\n",
       "      <th>fixed acidity</th>\n",
       "      <th>volatile acidity</th>\n",
       "      <th>citric acid</th>\n",
       "      <th>residual sugar</th>\n",
       "      <th>chlorides</th>\n",
       "      <th>free sulfur dioxide</th>\n",
       "      <th>total sulfur dioxide</th>\n",
       "      <th>density</th>\n",
       "      <th>pH</th>\n",
       "      <th>sulphates</th>\n",
       "      <th>alcohol</th>\n",
       "      <th>quality</th>\n",
       "    </tr>\n",
       "  </thead>\n",
       "  <tbody>\n",
       "    <tr>\n",
       "      <th>0</th>\n",
       "      <td>1</td>\n",
       "      <td>6.2</td>\n",
       "      <td>0.26</td>\n",
       "      <td>0.37</td>\n",
       "      <td>7.1</td>\n",
       "      <td>0.047</td>\n",
       "      <td>54.0</td>\n",
       "      <td>201.0</td>\n",
       "      <td>0.99523</td>\n",
       "      <td>3.19</td>\n",
       "      <td>0.48</td>\n",
       "      <td>9.5</td>\n",
       "      <td>6</td>\n",
       "    </tr>\n",
       "    <tr>\n",
       "      <th>1</th>\n",
       "      <td>1</td>\n",
       "      <td>7.2</td>\n",
       "      <td>0.37</td>\n",
       "      <td>0.32</td>\n",
       "      <td>2.0</td>\n",
       "      <td>0.062</td>\n",
       "      <td>15.0</td>\n",
       "      <td>28.0</td>\n",
       "      <td>0.99470</td>\n",
       "      <td>3.23</td>\n",
       "      <td>0.73</td>\n",
       "      <td>11.3</td>\n",
       "      <td>7</td>\n",
       "    </tr>\n",
       "    <tr>\n",
       "      <th>2</th>\n",
       "      <td>1</td>\n",
       "      <td>10.0</td>\n",
       "      <td>0.44</td>\n",
       "      <td>0.49</td>\n",
       "      <td>2.7</td>\n",
       "      <td>0.077</td>\n",
       "      <td>11.0</td>\n",
       "      <td>19.0</td>\n",
       "      <td>0.99630</td>\n",
       "      <td>3.23</td>\n",
       "      <td>0.63</td>\n",
       "      <td>11.6</td>\n",
       "      <td>7</td>\n",
       "    </tr>\n",
       "  </tbody>\n",
       "</table>\n",
       "</div>"
      ],
      "text/plain": [
       "   unit_matriix  fixed acidity  volatile acidity  citric acid  residual sugar  \\\n",
       "0             1            6.2              0.26         0.37             7.1   \n",
       "1             1            7.2              0.37         0.32             2.0   \n",
       "2             1           10.0              0.44         0.49             2.7   \n",
       "\n",
       "   chlorides  free sulfur dioxide  total sulfur dioxide  density    pH  \\\n",
       "0      0.047                 54.0                 201.0  0.99523  3.19   \n",
       "1      0.062                 15.0                  28.0  0.99470  3.23   \n",
       "2      0.077                 11.0                  19.0  0.99630  3.23   \n",
       "\n",
       "   sulphates  alcohol  quality  \n",
       "0       0.48      9.5        6  \n",
       "1       0.73     11.3        7  \n",
       "2       0.63     11.6        7  "
      ]
     },
     "execution_count": 94,
     "metadata": {},
     "output_type": "execute_result"
    }
   ],
   "source": [
    "#joining two dataframes \n",
    "\n",
    "f_df=pd.DataFrame.append(data_red,data_white,)\n",
    "f_df.insert(0, 'unit_matriix', 1)\n",
    "#shuffling of dataframe s\n",
    "\n",
    "f_df = f_df.sample(frac=1).reset_index(drop=True)\n",
    "f_df.head(3)"
   ]
  },
  {
   "cell_type": "code",
   "execution_count": 95,
   "metadata": {},
   "outputs": [
    {
     "name": "stdout",
     "output_type": "stream",
     "text": [
      "(1599, 12) (4898, 12) (6497, 13)\n"
     ]
    },
    {
     "data": {
      "text/plain": [
       "unit_matriix            0\n",
       "fixed acidity           0\n",
       "volatile acidity        0\n",
       "citric acid             0\n",
       "residual sugar          0\n",
       "chlorides               0\n",
       "free sulfur dioxide     0\n",
       "total sulfur dioxide    0\n",
       "density                 0\n",
       "pH                      0\n",
       "sulphates               0\n",
       "alcohol                 0\n",
       "quality                 0\n",
       "dtype: int64"
      ]
     },
     "execution_count": 95,
     "metadata": {},
     "output_type": "execute_result"
    }
   ],
   "source": [
    "# confirming the join of two dataframe \n",
    "print(data_red.shape,data_white.shape,f_df.shape)\n",
    "\n",
    "#checking the null values\n",
    "\n",
    "f_df.isnull().sum()"
   ]
  },
  {
   "cell_type": "code",
   "execution_count": 96,
   "metadata": {},
   "outputs": [],
   "source": [
    "#dropping column y and spliting the data into train and train\n",
    "\n",
    "\n",
    "f_df_new=f_df.drop('quality',axis=1)\n",
    "from sklearn.model_selection import train_test_split\n",
    "xtrain, xtest, ytrain, ytest = train_test_split(f_df_new, f_df['quality'], test_size=0.20, random_state=42)"
   ]
  },
  {
   "cell_type": "code",
   "execution_count": 104,
   "metadata": {},
   "outputs": [],
   "source": [
    "def linear_regression(xtrain,ytrain,alpha,itera):\n",
    "    n=len(xtrain.columns) #no.of features\n",
    "    m=len(xtrain.index) #no. of observations\n",
    "    beta=np.zeros(n)  #coefficient matrix of zeros\n",
    "    beta=beta.reshape(n,1) #reshaping \n",
    "    ypred=np.dot(xtrain,beta) #yprediction initialisation by matrix multiplication\n",
    "    print(beta.shape, \"  \\n\",ypred.shape) \n",
    "    ytrain= np.array(ytrain)\n",
    "    ytrain=ytrain.reshape(m,1)\n",
    "    \n",
    "    #basic updationof ypred in a loop\n",
    "    for i in range(0,itera):\n",
    "        hx=np.dot(xtrain,beta) # hx is function of beta and beta is matrix multiplied with xtrain\n",
    "        \n",
    "        error=hx-ytrain # residual error of hx func and ytrain\n",
    "        delta=(alpha/m)*(np.dot(xtrain.T,error)) # delta is partial derivative of cost function\n",
    "        delta=np.array(delta)\n",
    "        beta=beta-delta.reshape(12,1)\n",
    "        cost = np.sum((error ** 2)) / (2 * m) #cost function\n",
    "        ypred=np.dot(xtrain,beta) #final ypred after every iteration\n",
    "        \n",
    "      \n",
    "    return ypred,cost,beta"
   ]
  },
  {
   "cell_type": "code",
   "execution_count": 105,
   "metadata": {},
   "outputs": [
    {
     "name": "stdout",
     "output_type": "stream",
     "text": [
      "(12, 1)   \n",
      " (5197, 1)\n"
     ]
    }
   ],
   "source": [
    "ypred,cost,beta=linear_regression(xtrain,ytrain,0.000080,10000)"
   ]
  },
  {
   "cell_type": "code",
   "execution_count": 106,
   "metadata": {},
   "outputs": [
    {
     "data": {
      "text/plain": [
       "0.2978749203400835"
      ]
     },
     "execution_count": 106,
     "metadata": {},
     "output_type": "execute_result"
    }
   ],
   "source": [
    "cost"
   ]
  },
  {
   "cell_type": "code",
   "execution_count": 107,
   "metadata": {},
   "outputs": [
    {
     "data": {
      "text/plain": [
       "array([[ 3.27811120e-02],\n",
       "       [ 1.05196805e-01],\n",
       "       [-1.10512756e-02],\n",
       "       [ 7.82963508e-03],\n",
       "       [ 2.26678177e-02],\n",
       "       [ 1.67296598e-05],\n",
       "       [ 8.45972133e-03],\n",
       "       [-6.82525929e-07],\n",
       "       [ 3.23274179e-02],\n",
       "       [ 1.13457008e-01],\n",
       "       [ 2.17735083e-02],\n",
       "       [ 4.03979451e-01]])"
      ]
     },
     "execution_count": 107,
     "metadata": {},
     "output_type": "execute_result"
    }
   ],
   "source": [
    "beta"
   ]
  },
  {
   "cell_type": "code",
   "execution_count": 113,
   "metadata": {},
   "outputs": [
    {
     "name": "stdout",
     "output_type": "stream",
     "text": [
      "0.595748226659568 0.21987096154216967\n"
     ]
    }
   ],
   "source": [
    "print(mean_squared_error(ytrain, ypred),r2_score(ytrain, ypred))"
   ]
  },
  {
   "cell_type": "code",
   "execution_count": 114,
   "metadata": {},
   "outputs": [],
   "source": [
    "ytest_pred=np.dot(xtest,beta)"
   ]
  },
  {
   "cell_type": "code",
   "execution_count": 116,
   "metadata": {},
   "outputs": [
    {
     "name": "stdout",
     "output_type": "stream",
     "text": [
      "0.6386289517827934 0.15599984007072365\n"
     ]
    }
   ],
   "source": [
    "print(mean_squared_error(ytest, ytest_pred),r2_score(ytest, ytest_pred))"
   ]
  },
  {
   "cell_type": "code",
   "execution_count": null,
   "metadata": {},
   "outputs": [],
   "source": []
  }
 ],
 "metadata": {
  "kernelspec": {
   "display_name": "Python 3",
   "language": "python",
   "name": "python3"
  },
  "language_info": {
   "codemirror_mode": {
    "name": "ipython",
    "version": 3
   },
   "file_extension": ".py",
   "mimetype": "text/x-python",
   "name": "python",
   "nbconvert_exporter": "python",
   "pygments_lexer": "ipython3",
   "version": "3.7.3"
  }
 },
 "nbformat": 4,
 "nbformat_minor": 2
}
