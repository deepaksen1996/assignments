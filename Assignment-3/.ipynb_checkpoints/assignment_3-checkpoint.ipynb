{
 "cells": [
  {
   "cell_type": "raw",
   "metadata": {},
   "source": [
    "Problem Statement : \n",
    "The task is to train a classifier to discriminate between sonar signals bounced off a metal cylinder and those bounced off a roughly cylindrical rock.\n",
    "\n",
    "Apply hyperparameter tuning and perform a detailed comparison of the performance of models using Random Forest, Decision Trees, and SVC \n",
    "\n",
    "\n",
    "Dataset : https://archive.ics.uci.edu/ml/datasets/Connectionist+Bench+(Sonar,+Mines+vs.+Rocks)\n",
    "\n",
    "The deadline for the assignment is Thursday 6th May, 1 PM, Submit using private git account and add your mentor to the repository\n",
    "\n",
    "Note: Try not to directly upload the files  using upload button and rather use git commands (git push, git add, git commit, etc….)\n",
    "\n"
   ]
  },
  {
   "cell_type": "raw",
   "metadata": {},
   "source": [
    "this is a comment for praticing git\n"
   ]
  },
  {
   "cell_type": "code",
   "execution_count": 9,
   "metadata": {},
   "outputs": [],
   "source": [
    "import numpy as np \n",
    "import pandas as pd\n",
    "import matplotlib.pyplot as plt\n",
    "\n",
    "\n",
    "from sklearn.metrics import mean_squared_error\n",
    "from sklearn.metrics import roc_auc_score\n",
    "from sklearn.metrics import roc_curve\n",
    "from sklearn.metrics import auc\n",
    "\n",
    "from sklearn.linear_model import LogisticRegression\n",
    "from sklearn.tree import DecisionTreeClassifier\n",
    "from sklearn.ensemble import RandomForestClassifier\n",
    "from sklearn.svm import SVC\n",
    "\n",
    "from pprint import pprint\n",
    "from sklearn.model_selection import RandomizedSearchCV\n",
    "from sklearn.model_selection import GridSearchCV\n",
    "\n",
    "import warnings\n",
    "warnings.filterwarnings(\"ignore\")"
   ]
  },
  {
   "cell_type": "code",
   "execution_count": 10,
   "metadata": {},
   "outputs": [],
   "source": [
    "df=pd.read_csv(\"sonar.all-data\",header=None)"
   ]
  },
  {
   "cell_type": "code",
   "execution_count": 11,
   "metadata": {},
   "outputs": [
    {
     "name": "stdout",
     "output_type": "stream",
     "text": [
      "M    111\n",
      "R     97\n",
      "Name: 60, dtype: int64\n"
     ]
    },
    {
     "data": {
      "text/plain": [
       "0"
      ]
     },
     "execution_count": 11,
     "metadata": {},
     "output_type": "execute_result"
    }
   ],
   "source": [
    "print(df[60].value_counts())\n",
    "df[60].isnull().sum()"
   ]
  },
  {
   "cell_type": "code",
   "execution_count": 12,
   "metadata": {},
   "outputs": [],
   "source": [
    "df=df.replace(\"M\",1)\n",
    "df=df.replace(\"R\",0)"
   ]
  },
  {
   "cell_type": "code",
   "execution_count": 13,
   "metadata": {},
   "outputs": [],
   "source": [
    "y=df[60]\n",
    "x=df.drop(60,axis=1)\n",
    "from sklearn.model_selection import train_test_split\n",
    "xtrain, xtest, ytrain, ytest = train_test_split(x,y, test_size=0.20, random_state=42)"
   ]
  },
  {
   "cell_type": "markdown",
   "metadata": {},
   "source": [
    "## basic code for model base performance"
   ]
  },
  {
   "cell_type": "code",
   "execution_count": 15,
   "metadata": {},
   "outputs": [],
   "source": [
    "def model_build(modelname,xtrain,ytrain,xtest,ytest):\n",
    "    %timeit\n",
    "    model=modelname\n",
    "    model.fit(xtrain,ytrain)\n",
    "    ypred=model.predict(xtest)\n",
    "    fpr, tpr, thresholds = roc_curve(ytest, ypred)\n",
    "\n",
    "    print(\"train_model_score:\",model.score(xtrain,ytrain))\n",
    "    print(\"test_model_score\",model.score(xtest,ytest))\n",
    "    print(\"mse:\",mean_squared_error(ypred,ytest))\n",
    "    print(\"auc:\",auc(fpr, tpr))\n",
    "    return ypred,model"
   ]
  },
  {
   "cell_type": "markdown",
   "metadata": {},
   "source": [
    "## function for evaluating a particular parameter and its plot against auc "
   ]
  },
  {
   "cell_type": "code",
   "execution_count": 16,
   "metadata": {},
   "outputs": [],
   "source": [
    "def rf_evaluate(**kwargs):\n",
    "    train_results = []\n",
    "    test_results = []\n",
    "    for key, value in kwargs.items():\n",
    "        for i in value: \n",
    "            rf = RandomForestClassifier(i,random_state=42)\n",
    "            rf.fit(xtrain, ytrain)\n",
    "            train_pred = rf.predict(xtrain)\n",
    "            false_positive_rate, true_positive_rate, thresholds = roc_curve(ytrain, train_pred)\n",
    "            roc_auc = auc(false_positive_rate, true_positive_rate)\n",
    "            train_results.append(roc_auc)\n",
    "            y_pred = rf.predict(xtest)\n",
    "            false_positive_rate, true_positive_rate, thresholds = roc_curve(ytest, y_pred)\n",
    "            roc_auc = auc(false_positive_rate, true_positive_rate)\n",
    "            test_results.append(roc_auc)\n",
    "    from matplotlib.legend_handler import HandlerLine2D\n",
    "    line1, = plt.plot(value, train_results, 'b', label='Train AUC')\n",
    "    line2, = plt.plot(value, test_results, 'r', label='Test AUC')\n",
    "    plt.legend(handler_map={line1: HandlerLine2D(numpoints=2)})\n",
    "    plt.ylabel('AUC score')\n",
    "    plt.xlabel(key)\n",
    "    plt.show()"
   ]
  },
  {
   "cell_type": "markdown",
   "metadata": {},
   "source": [
    "## logictic regression"
   ]
  },
  {
   "cell_type": "code",
   "execution_count": 17,
   "metadata": {},
   "outputs": [
    {
     "name": "stdout",
     "output_type": "stream",
     "text": [
      "train_model_score: 0.8072289156626506\n",
      "test_model_score 0.8571428571428571\n",
      "mse: 0.14285714285714285\n",
      "roc_auc_score: 0.8485576923076923\n",
      "auc: 0.8485576923076923\n"
     ]
    }
   ],
   "source": [
    "ypred,log_reg=model_build(LogisticRegression(random_state=42),xtrain,ytrain,xtest,ytest)"
   ]
  },
  {
   "cell_type": "markdown",
   "metadata": {},
   "source": [
    "## base model random forest"
   ]
  },
  {
   "cell_type": "code",
   "execution_count": 18,
   "metadata": {},
   "outputs": [
    {
     "name": "stdout",
     "output_type": "stream",
     "text": [
      "train_model_score: 0.9879518072289156\n",
      "test_model_score 0.7857142857142857\n",
      "mse: 0.21428571428571427\n",
      "roc_auc_score: 0.8149038461538461\n",
      "auc: 0.8149038461538461\n"
     ]
    }
   ],
   "source": [
    "ypred,log_reg=model_build(RandomForestClassifier(random_state=42),xtrain,ytrain,xtest,ytest)"
   ]
  },
  {
   "cell_type": "markdown",
   "metadata": {},
   "source": [
    "## checking the auc of different parameter for random forest"
   ]
  },
  {
   "cell_type": "code",
   "execution_count": 19,
   "metadata": {},
   "outputs": [
    {
     "data": {
      "image/png": "[encoded data removed]",
      "text/plain": [
       "<Figure size 432x288 with 1 Axes>"
      ]
     },
     "metadata": {
      "needs_background": "light"
     },
     "output_type": "display_data"
    },
    {
     "data": {
      "image/png": "[encoded data removed]",
      "text/plain": [
       "<Figure size 432x288 with 1 Axes>"
      ]
     },
     "metadata": {
      "needs_background": "light"
     },
     "output_type": "display_data"
    }
   ],
   "source": [
    "lst=(np.linspace(10, 100, 50, endpoint=True,dtype='int')).tolist\n",
    "rf_evaluate(max_depth=lst())\n",
    "lst=(np.linspace(10, 350, 50, endpoint=True,dtype='int')).tolist\n",
    "rf_evaluate(n_estimators = lst())"
   ]
  },
  {
   "cell_type": "code",
   "execution_count": 20,
   "metadata": {},
   "outputs": [
    {
     "data": {
      "image/png": "[encoded data removed]",
      "text/plain": [
       "<Figure size 432x288 with 1 Axes>"
      ]
     },
     "metadata": {
      "needs_background": "light"
     },
     "output_type": "display_data"
    },
    {
     "data": {
      "image/png": "[encoded data removed]",
      "text/plain": [
       "<Figure size 432x288 with 1 Axes>"
      ]
     },
     "metadata": {
      "needs_background": "light"
     },
     "output_type": "display_data"
    }
   ],
   "source": [
    "lst=(np.linspace(1, 20, 20, endpoint=True,dtype='int')).tolist\n",
    "rf_evaluate(min_samples_leaf = lst())\n",
    "lst=(np.linspace(1, 20, 20, endpoint=True,dtype='int')).tolist\n",
    "rf_evaluate(min_samples_split = lst())"
   ]
  },
  {
   "cell_type": "code",
   "execution_count": 21,
   "metadata": {},
   "outputs": [],
   "source": [
    "from sklearn.model_selection import RandomizedSearchCV\n",
    "# Create the random grid\n",
    "random_grid = {'n_estimators': [int(x) for x in np.linspace(start = 10, stop = 350, num = 50)],\n",
    "               'max_features': ['auto', 'sqrt','log2'],\n",
    "               'max_depth': [int(x) for x in np.linspace(10, 20, num = 10)],\n",
    "               'min_samples_split': [2,3,5,7,9],\n",
    "               'min_samples_leaf': [2,3,5,7,9],\n",
    "               'bootstrap': [True, False]}\n",
    "#pprint(random_grid)\n"
   ]
  },
  {
   "cell_type": "code",
   "execution_count": 22,
   "metadata": {},
   "outputs": [
    {
     "name": "stdout",
     "output_type": "stream",
     "text": [
      "Fitting 5 folds for each of 100 candidates, totalling 500 fits\n"
     ]
    },
    {
     "name": "stderr",
     "output_type": "stream",
     "text": [
      "[Parallel(n_jobs=-1)]: Using backend LokyBackend with 8 concurrent workers.\n",
      "[Parallel(n_jobs=-1)]: Done  25 tasks      | elapsed:    4.1s\n",
      "[Parallel(n_jobs=-1)]: Done 146 tasks      | elapsed:    9.6s\n",
      "[Parallel(n_jobs=-1)]: Done 349 tasks      | elapsed:   20.4s\n"
     ]
    },
    {
     "name": "stdout",
     "output_type": "stream",
     "text": [
      "train_model_score: 1.0\n",
      "test_model_score 0.8333333333333334\n",
      "mse: 0.16666666666666666\n",
      "roc_auc_score: 0.8413461538461539\n",
      "auc: 0.8413461538461539\n"
     ]
    },
    {
     "name": "stderr",
     "output_type": "stream",
     "text": [
      "[Parallel(n_jobs=-1)]: Done 500 out of 500 | elapsed:   27.1s finished\n"
     ]
    }
   ],
   "source": [
    "rf = RandomForestClassifier()\n",
    "rf_random = RandomizedSearchCV(estimator = rf, param_distributions = random_grid, n_iter = 100, cv = 5, verbose=2, random_state=42, n_jobs = -1)\n",
    "ypred,log_reg=model_build(rf_random,xtrain,ytrain,xtest,ytest)"
   ]
  },
  {
   "cell_type": "code",
   "execution_count": 116,
   "metadata": {},
   "outputs": [
    {
     "data": {
      "text/plain": [
       "{'n_estimators': 80,\n",
       " 'min_samples_split': 2,\n",
       " 'min_samples_leaf': 3,\n",
       " 'max_features': 'sqrt',\n",
       " 'max_depth': 16,\n",
       " 'bootstrap': False}"
      ]
     },
     "execution_count": 116,
     "metadata": {},
     "output_type": "execute_result"
    }
   ],
   "source": [
    "rf_random.best_params_"
   ]
  },
  {
   "cell_type": "code",
   "execution_count": 117,
   "metadata": {},
   "outputs": [],
   "source": [
    "from sklearn.model_selection import GridSearchCV\n",
    "# Create the parameter grid based on the results of random search \n",
    "param_grid = {\n",
    "    'bootstrap': [True,False],\n",
    "    'max_depth': [80, 90, 100, 110],\n",
    "    'max_features': ['auto','sqrt'],\n",
    "    'min_samples_leaf': [3, 4, 5],\n",
    "    'min_samples_split': [2,3,8],\n",
    "    'n_estimators': [100, 200, 300]\n",
    "}\n",
    "# Create a based model\n",
    "rf = RandomForestClassifier()\n",
    "# Instantiate the grid search model\n",
    "grid_search = GridSearchCV(estimator = rf, param_grid = param_grid, \n",
    "                          cv = 3, n_jobs = -1, verbose = 2)"
   ]
  },
  {
   "cell_type": "code",
   "execution_count": 118,
   "metadata": {},
   "outputs": [
    {
     "name": "stdout",
     "output_type": "stream",
     "text": [
      "Fitting 3 folds for each of 432 candidates, totalling 1296 fits\n"
     ]
    },
    {
     "name": "stderr",
     "output_type": "stream",
     "text": [
      "[Parallel(n_jobs=-1)]: Using backend LokyBackend with 8 concurrent workers.\n",
      "[Parallel(n_jobs=-1)]: Done  34 tasks      | elapsed:    1.4s\n",
      "[Parallel(n_jobs=-1)]: Done 276 tasks      | elapsed:    9.3s\n",
      "[Parallel(n_jobs=-1)]: Done 682 tasks      | elapsed:   26.3s\n",
      "[Parallel(n_jobs=-1)]: Done 1248 tasks      | elapsed:   54.0s\n"
     ]
    },
    {
     "name": "stdout",
     "output_type": "stream",
     "text": [
      "train_model_score: 1.0\n",
      "test_model_score 0.8333333333333334\n",
      "mse: 0.16666666666666666\n",
      "roc_auc_score: 0.8413461538461539\n",
      "{'bootstrap': False, 'max_depth': 110, 'max_features': 'auto', 'min_samples_leaf': 3, 'min_samples_split': 3, 'n_estimators': 100}\n"
     ]
    },
    {
     "name": "stderr",
     "output_type": "stream",
     "text": [
      "[Parallel(n_jobs=-1)]: Done 1296 out of 1296 | elapsed:   56.3s finished\n"
     ]
    }
   ],
   "source": [
    "# Fit the grid search to the data\n",
    "ypred,log_reg=model_build(grid_search,xtrain,ytrain,xtest,ytest)\n",
    "print(grid_search.best_params_)\n",
    "best_grid = grid_search.best_estimator_"
   ]
  },
  {
   "cell_type": "markdown",
   "metadata": {},
   "source": [
    "# result(roc_auc_score_rf) [0.81,0.84,0.84]"
   ]
  },
  {
   "cell_type": "markdown",
   "metadata": {},
   "source": [
    "### Decision Tree"
   ]
  },
  {
   "cell_type": "code",
   "execution_count": 183,
   "metadata": {},
   "outputs": [
    {
     "name": "stdout",
     "output_type": "stream",
     "text": [
      "train_model_score: 1.0\n",
      "test_model_score 0.7142857142857143\n",
      "mse: 0.2857142857142857\n",
      "roc_auc_score: 0.7091346153846154\n"
     ]
    }
   ],
   "source": [
    "ypred,log_reg=model_build(DecisionTreeClassifier(random_state=42),xtrain,ytrain,xtest,ytest)"
   ]
  },
  {
   "cell_type": "code",
   "execution_count": 184,
   "metadata": {},
   "outputs": [],
   "source": [
    "# Create the random grid\n",
    "random_grid = {'max_features': ['auto', 'sqrt','log2'],\n",
    "               'max_depth': [int(x) for x in np.linspace(10, 100, num = 10)],\n",
    "               'min_samples_split': [2,3,4,5,7,9],\n",
    "               'min_samples_leaf': [2,3,4,5,7,9],\n",
    "                'max_leaf_nodes' : [2,3,4],\n",
    "               'random_state':[42]\n",
    "              }\n"
   ]
  },
  {
   "cell_type": "code",
   "execution_count": 185,
   "metadata": {},
   "outputs": [
    {
     "name": "stdout",
     "output_type": "stream",
     "text": [
      "Fitting 5 folds for each of 100 candidates, totalling 500 fits\n"
     ]
    },
    {
     "name": "stderr",
     "output_type": "stream",
     "text": [
      "[Parallel(n_jobs=-1)]: Using backend LokyBackend with 8 concurrent workers.\n"
     ]
    },
    {
     "name": "stdout",
     "output_type": "stream",
     "text": [
      "train_model_score: 0.7048192771084337\n",
      "test_model_score 0.6666666666666666\n",
      "mse: 0.3333333333333333\n",
      "roc_auc_score: 0.6826923076923077\n"
     ]
    },
    {
     "name": "stderr",
     "output_type": "stream",
     "text": [
      "[Parallel(n_jobs=-1)]: Done 500 out of 500 | elapsed:    0.6s finished\n"
     ]
    },
    {
     "data": {
      "text/plain": [
       "{'random_state': 42,\n",
       " 'min_samples_split': 9,\n",
       " 'min_samples_leaf': 9,\n",
       " 'max_leaf_nodes': 2,\n",
       " 'max_features': 'log2',\n",
       " 'max_depth': 80}"
      ]
     },
     "execution_count": 185,
     "metadata": {},
     "output_type": "execute_result"
    }
   ],
   "source": [
    "dt = DecisionTreeClassifier()\n",
    "dt_random = RandomizedSearchCV(estimator = dt, param_distributions = random_grid, n_iter = 100, cv = 5, verbose=2, random_state=42, n_jobs = -1)\n",
    "ypred,log_reg=model_build(dt_random,xtrain,ytrain,xtest,ytest)\n",
    "dt_random.best_params_"
   ]
  },
  {
   "cell_type": "code",
   "execution_count": 186,
   "metadata": {},
   "outputs": [],
   "source": [
    "# Create the parameter grid based on the results of random search \n",
    "param_grid = {\n",
    "    'max_features': ['auto', 'sqrt','log2'],\n",
    "               'max_depth': [int(x) for x in np.linspace(10, 20, num = 10)],\n",
    "               'min_samples_split': [2,3,5,7],\n",
    "               'min_samples_leaf': [1,2,3,5,7],\n",
    "                'max_leaf_nodes' : [2,3,4,None],\n",
    "    'random_state':[42]\n",
    "}\n",
    "# Create a based model\n",
    "dt = DecisionTreeClassifier()\n",
    "# Instantiate the grid search model\n",
    "grid_search = GridSearchCV(estimator = dt, param_grid = param_grid, \n",
    "                          cv = 3, n_jobs = -1, verbose = 2)"
   ]
  },
  {
   "cell_type": "code",
   "execution_count": 187,
   "metadata": {},
   "outputs": [
    {
     "name": "stdout",
     "output_type": "stream",
     "text": [
      "Fitting 3 folds for each of 2400 candidates, totalling 7200 fits\n"
     ]
    },
    {
     "name": "stderr",
     "output_type": "stream",
     "text": [
      "[Parallel(n_jobs=-1)]: Using backend LokyBackend with 8 concurrent workers.\n",
      "[Parallel(n_jobs=-1)]: Done 178 tasks      | elapsed:    0.4s\n",
      "[Parallel(n_jobs=-1)]: Done 6232 tasks      | elapsed:    5.8s\n"
     ]
    },
    {
     "name": "stdout",
     "output_type": "stream",
     "text": [
      "train_model_score: 0.9397590361445783\n",
      "test_model_score 0.6666666666666666\n",
      "mse: 0.3333333333333333\n",
      "roc_auc_score: 0.6947115384615384\n",
      "{'max_depth': 10, 'max_features': 'log2', 'max_leaf_nodes': None, 'min_samples_leaf': 3, 'min_samples_split': 2, 'random_state': 42}\n"
     ]
    },
    {
     "name": "stderr",
     "output_type": "stream",
     "text": [
      "[Parallel(n_jobs=-1)]: Done 7200 out of 7200 | elapsed:    6.4s finished\n"
     ]
    }
   ],
   "source": [
    "# Fit the grid search to the data\n",
    "ypred,log_reg=model_build(grid_search,xtrain,ytrain,xtest,ytest)\n",
    "print(grid_search.best_params_)\n",
    "best_grid = grid_search.best_estimator_\n"
   ]
  },
  {
   "cell_type": "markdown",
   "metadata": {},
   "source": [
    "# result(roc_auc_score_dt) [0.70,0.68,0.69]"
   ]
  },
  {
   "cell_type": "markdown",
   "metadata": {},
   "source": [
    "### SVC\n"
   ]
  },
  {
   "cell_type": "code",
   "execution_count": 190,
   "metadata": {},
   "outputs": [
    {
     "name": "stdout",
     "output_type": "stream",
     "text": [
      "train_model_score: 0.6265060240963856\n",
      "test_model_score 0.8333333333333334\n",
      "mse: 0.16666666666666666\n",
      "roc_auc_score: 0.7932692307692308\n"
     ]
    }
   ],
   "source": [
    "ypred,log_reg=model_build(SVC(random_state=42),xtrain,ytrain,xtest,ytest)"
   ]
  },
  {
   "cell_type": "code",
   "execution_count": 193,
   "metadata": {},
   "outputs": [
    {
     "name": "stdout",
     "output_type": "stream",
     "text": [
      "Fitting 5 folds for each of 100 candidates, totalling 500 fits\n"
     ]
    },
    {
     "name": "stderr",
     "output_type": "stream",
     "text": [
      "[Parallel(n_jobs=-1)]: Using backend LokyBackend with 8 concurrent workers.\n",
      "[Parallel(n_jobs=-1)]: Done 178 tasks      | elapsed:    0.5s\n"
     ]
    },
    {
     "name": "stdout",
     "output_type": "stream",
     "text": [
      "train_model_score: 0.9879518072289156\n",
      "test_model_score 0.8333333333333334\n",
      "mse: 0.16666666666666666\n",
      "roc_auc_score: 0.8413461538461539\n"
     ]
    },
    {
     "name": "stderr",
     "output_type": "stream",
     "text": [
      "[Parallel(n_jobs=-1)]: Done 500 out of 500 | elapsed:    1.0s finished\n"
     ]
    },
    {
     "data": {
      "text/plain": [
       "{'random_state': 42, 'kernel': 'poly', 'gamma': 10, 'degree': 2, 'C': 0.01}"
      ]
     },
     "execution_count": 193,
     "metadata": {},
     "output_type": "execute_result"
    }
   ],
   "source": [
    "# Create the random grid\n",
    "random_grid = {'degree':[1,2,3,4,5,6], \n",
    "               'gamma':[0.01,0.1,1,10,100],\n",
    "               'C' :[0.01,0.1, 1, 10, 100, 1000],\n",
    "            'kernel':['linear','poly'],\n",
    "               'random_state':[42],\n",
    "              }\n",
    "svc = SVC()\n",
    "svc_random = RandomizedSearchCV(estimator = svc, param_distributions = random_grid, n_iter = 100, cv = 5, verbose=2, random_state=42, n_jobs = -1)\n",
    "ypred,log_reg=model_build(svc_random,xtrain,ytrain,xtest,ytest)\n",
    "svc_random.best_params_"
   ]
  },
  {
   "cell_type": "code",
   "execution_count": 196,
   "metadata": {},
   "outputs": [
    {
     "name": "stdout",
     "output_type": "stream",
     "text": [
      "Fitting 3 folds for each of 864 candidates, totalling 2592 fits\n"
     ]
    },
    {
     "name": "stderr",
     "output_type": "stream",
     "text": [
      "[Parallel(n_jobs=-1)]: Using backend LokyBackend with 8 concurrent workers.\n",
      "[Parallel(n_jobs=-1)]: Done 160 tasks      | elapsed:    0.4s\n"
     ]
    },
    {
     "name": "stdout",
     "output_type": "stream",
     "text": [
      "train_model_score: 0.9939759036144579\n",
      "test_model_score 0.8095238095238095\n",
      "mse: 0.19047619047619047\n",
      "roc_auc_score: 0.8100961538461539\n",
      "{'C': 0.01, 'degree': 4, 'gamma': 1, 'kernel': 'poly', 'random_state': 42}\n"
     ]
    },
    {
     "name": "stderr",
     "output_type": "stream",
     "text": [
      "[Parallel(n_jobs=-1)]: Done 2592 out of 2592 | elapsed:    3.4s finished\n"
     ]
    }
   ],
   "source": [
    "param_grid = {\n",
    "    'degree':[0,1,2,3,4,5,6,7], \n",
    "               'gamma':[0.01,0.1,1,10,100,1000],\n",
    "               'C' :[0.01,0.1, 1, 10, 100, 1000],\n",
    "            'kernel':['rbf','linear','poly'],\n",
    "               'random_state':[42]}\n",
    "# Create a based model\n",
    "svc=SVC()\n",
    "# Instantiate the grid search model\n",
    "grid_search = GridSearchCV(estimator = svc, param_grid = param_grid, \n",
    "                          cv = 3, n_jobs = -1, verbose = 2)\n",
    "ypred,log_reg=model_build(grid_search,xtrain,ytrain,xtest,ytest)\n",
    "print(grid_search.best_params_)\n",
    "best_grid = grid_search.best_estimator_"
   ]
  },
  {
   "cell_type": "markdown",
   "metadata": {},
   "source": [
    "# result(roc_auc_score_svc) [0.79,0.84,0.81]"
   ]
  },
  {
   "cell_type": "code",
   "execution_count": null,
   "metadata": {},
   "outputs": [],
   "source": []
  }
 ],
 "metadata": {
  "kernelspec": {
   "display_name": "Python 3",
   "language": "python",
   "name": "python3"
  },
  "language_info": {
   "codemirror_mode": {
    "name": "ipython",
    "version": 3
   },
   "file_extension": ".py",
   "mimetype": "text/x-python",
   "name": "python",
   "nbconvert_exporter": "python",
   "pygments_lexer": "ipython3",
   "version": "3.7.3"
  }
 },
 "nbformat": 4,
 "nbformat_minor": 2
}
