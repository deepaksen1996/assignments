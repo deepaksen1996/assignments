{
 "cells": [
  {
   "cell_type": "markdown",
   "metadata": {},
   "source": [
    "### Implemeting neural network from scratch"
   ]
  },
  {
   "cell_type": "markdown",
   "metadata": {},
   "source": []
  },
  {
   "cell_type": "code",
   "execution_count": 1,
   "metadata": {},
   "outputs": [],
   "source": [
    "import numpy as np\n",
    "import matplotlib.pyplot as plt\n",
    "from mlxtend.data import loadlocal_mnist"
   ]
  },
  {
   "cell_type": "code",
   "execution_count": 2,
   "metadata": {},
   "outputs": [],
   "source": [
    "xtrain,ytrain = loadlocal_mnist(images_path = \"train-images-idx3-ubyte\",labels_path = 'train-labels-idx1-ubyte')\n",
    "xtest,ytest = loadlocal_mnist(images_path = 't10k-images-idx3-ubyte',labels_path = 't10k-labels-idx1-ubyte')"
   ]
  },
  {
   "cell_type": "code",
   "execution_count": 3,
   "metadata": {},
   "outputs": [
    {
     "data": {
      "text/plain": [
       "(10000, 784)"
      ]
     },
     "execution_count": 3,
     "metadata": {},
     "output_type": "execute_result"
    }
   ],
   "source": [
    "xtest.shape"
   ]
  },
  {
   "cell_type": "code",
   "execution_count": 4,
   "metadata": {},
   "outputs": [],
   "source": [
    "#normalise\n",
    "digits = 10\n",
    "xtrain = xtrain/255\n",
    "xtest =  xtest/255"
   ]
  },
  {
   "cell_type": "code",
   "execution_count": 5,
   "metadata": {},
   "outputs": [],
   "source": [
    "#onehot coded\n",
    "ytrain = np.eye(digits)[ytrain.astype('int32')]"
   ]
  },
  {
   "cell_type": "code",
   "execution_count": 6,
   "metadata": {},
   "outputs": [
    {
     "data": {
      "text/plain": [
       "(60000, 10)"
      ]
     },
     "execution_count": 6,
     "metadata": {},
     "output_type": "execute_result"
    }
   ],
   "source": [
    "ytrain.shape"
   ]
  },
  {
   "cell_type": "code",
   "execution_count": 7,
   "metadata": {},
   "outputs": [],
   "source": [
    "ytest = np.eye(digits)[ytest.astype('int32')]\n",
    "ytest = ytest.T.reshape(digits, len(ytest))"
   ]
  },
  {
   "cell_type": "code",
   "execution_count": 8,
   "metadata": {},
   "outputs": [],
   "source": [
    "ytrain.shape\n",
    "ytrain = ytrain.T.reshape(digits, len(ytrain))"
   ]
  },
  {
   "cell_type": "code",
   "execution_count": 9,
   "metadata": {},
   "outputs": [],
   "source": [
    "# multi class cross entropy loss function\n",
    "\n",
    "def compute_multiclass_loss(Y, predicted):\n",
    "    L_sum = np.sum(np.multiply(Y, np.log(predicted)))\n",
    "    m = Y.shape[1]\n",
    "    L = -(1/m) * L_sum\n",
    "    return L\n",
    "\n",
    "# Activation function\n",
    "def sigmoid(x):\n",
    "    return 1 / (1 + np.exp(-x))"
   ]
  },
  {
   "cell_type": "code",
   "execution_count": 10,
   "metadata": {},
   "outputs": [],
   "source": [
    "xtrain = xtrain.T.reshape(784, len(xtrain))"
   ]
  },
  {
   "cell_type": "code",
   "execution_count": 11,
   "metadata": {},
   "outputs": [],
   "source": [
    "xtest = xtest.T.reshape(784, len(xtest))"
   ]
  },
  {
   "cell_type": "code",
   "execution_count": 12,
   "metadata": {},
   "outputs": [
    {
     "data": {
      "text/plain": [
       "784"
      ]
     },
     "execution_count": 12,
     "metadata": {},
     "output_type": "execute_result"
    }
   ],
   "source": [
    "xtrain.shape[0]"
   ]
  },
  {
   "cell_type": "code",
   "execution_count": 18,
   "metadata": {},
   "outputs": [
    {
     "name": "stdout",
     "output_type": "stream",
     "text": [
      "(256, 784) (10, 256) (256, 1) (10, 1)\n",
      "Epoch 0 cost:  19.56719210743892\n",
      "Epoch 100 cost:  0.3853538811451661\n",
      "Epoch 200 cost:  0.27289845960126996\n",
      "Epoch 300 cost:  0.21996498961167957\n",
      "Epoch 400 cost:  0.18700799647245542\n",
      "Epoch 500 cost:  0.16358313243111844\n",
      "Epoch 600 cost:  0.14588696647215885\n",
      "Epoch 700 cost:  0.1318171269344279\n",
      "Epoch 800 cost:  0.12029096961944918\n",
      "Epoch 900 cost:  0.11052368244037027\n",
      "Final cost: 0.10210350566431793\n"
     ]
    }
   ],
   "source": [
    "# hyperparameters\n",
    "feature = xtrain.shape[0]\n",
    "hidden_node = 256\n",
    "m = len(xtrain)\n",
    "alpha = 0.1\n",
    "\n",
    "\n",
    "# weights and bias intitialisation\n",
    "\n",
    "w1 = np.random.randn(hidden_node, feature)\n",
    "b1 = np.zeros((hidden_node, 1))\n",
    "w2 = np.random.randn(digits, hidden_node)\n",
    "b2 = np.zeros((digits, 1))\n",
    "#print(w1.shape,w2.shape,b1.shape,b2.shape)\n",
    "x = xtrain\n",
    "y = ytrain\n",
    "\n",
    "\n",
    "for i in range(1000):\n",
    "    \n",
    "    # Forward_propagation\n",
    "    z1 = np.matmul(w1,x) + b1\n",
    "    a1 = sigmoid(z1)\n",
    "    z2 = np.matmul(w2,a1) + b2\n",
    "    a2 = np.exp(z2) / np.sum(np.exp(z2), axis=0)\n",
    "    #print(a2.shape)\n",
    "    cost = compute_multiclass_loss(y, a2)\n",
    "   \n",
    "    #Backpropagation\n",
    "    dz2 = a2-y\n",
    "    dw2 = (1./m) * np.matmul(dz2, a1.T)\n",
    "    db2 = (1./m) * np.sum(dz2, axis=1, keepdims=True)\n",
    "\n",
    "    da1 = np.matmul(w2.T, dz2)\n",
    "    dz1 = da1 * (a1*(1-a1))\n",
    "    dw1 = (1./m) * np.matmul(dz1, x.T)\n",
    "    db1 = (1./m) * np.sum(dz1, axis=1, keepdims=True)\n",
    "\n",
    "    # Updating weights\n",
    "    w2 = w2 - alpha * dw2\n",
    "    b2 = b2 - alpha * db2\n",
    "    w1 = w1 - alpha * dw1\n",
    "    b1 = b1 - alpha * db1\n",
    "\n",
    "    if (i % 100 == 0):\n",
    "        print(\"Epoch\", i, \"cost: \", cost)\n",
    "\n",
    "print(\"Final cost:\", cost)"
   ]
  },
  {
   "cell_type": "code",
   "execution_count": 16,
   "metadata": {},
   "outputs": [
    {
     "name": "stdout",
     "output_type": "stream",
     "text": [
      "xtrain : (784, 60000)\n",
      "ytrain : (10, 60000)\n",
      "w1 : (256, 784)\n",
      "w2 : (10, 256)\n",
      "b1 : (256, 1)\n",
      "b2 : (10, 1)\n",
      "a1 : (256, 60000)\n",
      "z1 : (256, 60000)\n"
     ]
    }
   ],
   "source": [
    "print(\"xtrain :\",xtrain.shape)\n",
    "print(\"ytrain :\",ytrain.shape)\n",
    "print(\"w1 :\",w1.shape)\n",
    "print(\"w2 :\",w2.shape)\n",
    "print(\"b1 :\",b1.shape)\n",
    "print(\"b2 :\",b2.shape)\n",
    "print(\"a1 :\",a1.shape)\n",
    "print(\"z1 :\",z1.shape)"
   ]
  },
  {
   "cell_type": "code",
   "execution_count": 17,
   "metadata": {},
   "outputs": [
    {
     "data": {
      "text/plain": [
       "(10, 60000)"
      ]
     },
     "execution_count": 17,
     "metadata": {},
     "output_type": "execute_result"
    }
   ],
   "source": [
    "dz2.shape"
   ]
  },
  {
   "cell_type": "code",
   "execution_count": 18,
   "metadata": {},
   "outputs": [],
   "source": [
    "z1_t = np.matmul(w1, xtest) + b1\n",
    "a1_t = sigmoid(z1_t)\n",
    "z2_t = np.matmul(w2, a1_t) + b2\n",
    "a2_t = np.exp(z2_t) / np.sum(np.exp(z2_t), axis=0)\n",
    "\n",
    "predictions = np.argmax(a2_t, axis=0)\n",
    "labels = np.argmax(ytest, axis=0)"
   ]
  },
  {
   "cell_type": "code",
   "execution_count": 19,
   "metadata": {},
   "outputs": [],
   "source": [
    "#Accuracy\n",
    "\n",
    "from sklearn.metrics import accuracy_score\n",
    "\n",
    "accuracy = accuracy_score(labels,predictions)"
   ]
  },
  {
   "cell_type": "code",
   "execution_count": 20,
   "metadata": {},
   "outputs": [
    {
     "data": {
      "text/plain": [
       "95.57"
      ]
     },
     "execution_count": 20,
     "metadata": {},
     "output_type": "execute_result"
    }
   ],
   "source": [
    "accuracy*100"
   ]
  },
  {
   "cell_type": "markdown",
   "metadata": {},
   "source": [
    "##### hidden layer = 64, accuracy =94.28, alpha = 0.1 \n",
    "##### hidden layer = 64, accuracy =89.87, alpha = 0.01 \n",
    "##### hidden layer = 256, accuracy =95.06, alpha = 0.1"
   ]
  },
  {
   "cell_type": "code",
   "execution_count": null,
   "metadata": {},
   "outputs": [],
   "source": []
  }
 ],
 "metadata": {
  "kernelspec": {
   "display_name": "Python 3",
   "language": "python",
   "name": "python3"
  },
  "language_info": {
   "codemirror_mode": {
    "name": "ipython",
    "version": 3
   },
   "file_extension": ".py",
   "mimetype": "text/x-python",
   "name": "python",
   "nbconvert_exporter": "python",
   "pygments_lexer": "ipython3",
   "version": "3.6.8"
  }
 },
 "nbformat": 4,
 "nbformat_minor": 2
}
