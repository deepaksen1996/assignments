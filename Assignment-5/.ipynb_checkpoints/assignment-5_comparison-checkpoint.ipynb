{
 "cells": [
  {
   "cell_type": "code",
   "execution_count": 1,
   "metadata": {},
   "outputs": [
    {
     "name": "stderr",
     "output_type": "stream",
     "text": [
      "Using TensorFlow backend.\n"
     ]
    }
   ],
   "source": [
    "import numpy as np\n",
    "import pandas as pd\n",
    "import tensorflow as tf\n",
    "import warnings\n",
    "warnings.filterwarnings(\"ignore\")\n",
    "import matplotlib.pyplot as plt\n",
    "from mlxtend.data import loadlocal_mnist\n",
    "from keras.preprocessing.image import ImageDataGenerator\n",
    "from sklearn.model_selection import train_test_split"
   ]
  },
  {
   "cell_type": "code",
   "execution_count": 2,
   "metadata": {},
   "outputs": [],
   "source": [
    "def load_data():\n",
    "    xtrain,ytrain = loadlocal_mnist(images_path = \"train-images-idx3-ubyte\",labels_path = 'train-labels-idx1-ubyte')\n",
    "    xtest,ytest = loadlocal_mnist(images_path = 't10k-images-idx3-ubyte',labels_path = 't10k-labels-idx1-ubyte')\n",
    "    xtrain=xtrain.reshape(xtrain.shape[0],28,28,1)\n",
    "    xtest=xtest.reshape(xtest.shape[0],28,28,1)\n",
    "    # compute the number of labels\n",
    "    num_labels = np.amax(ytrain) + 1\n",
    "    #print(num_labels)\n",
    "    # convert to one-hot vector\n",
    "    ytrain = np.eye(num_labels)[ytrain.astype('int32')]\n",
    "    ytest = np.eye(num_labels)[ytest.astype('int32')]\n",
    "    #print(ytrain.shape,ytest.shape)\n",
    "    return xtrain,ytrain,xtest,ytest"
   ]
  },
  {
   "cell_type": "code",
   "execution_count": 3,
   "metadata": {},
   "outputs": [],
   "source": [
    "xtrain,ytrain,xtest,ytest=load_data()"
   ]
  },
  {
   "cell_type": "code",
   "execution_count": 4,
   "metadata": {},
   "outputs": [],
   "source": [
    "# we train our network using float data\n",
    "xtest = xtest.astype('float32') / 255"
   ]
  },
  {
   "cell_type": "markdown",
   "metadata": {},
   "source": [
    "## prediction from normalisation and dropout"
   ]
  },
  {
   "cell_type": "code",
   "execution_count": 5,
   "metadata": {},
   "outputs": [
    {
     "name": "stdout",
     "output_type": "stream",
     "text": [
      "WARNING:tensorflow:From /home/deepak/anaconda3/lib/python3.6/site-packages/tensorflow/python/training/saver.py:1266: checkpoint_exists (from tensorflow.python.training.checkpoint_management) is deprecated and will be removed in a future version.\n",
      "Instructions for updating:\n",
      "Use standard file APIs to check for files with this prefix.\n",
      "INFO:tensorflow:Restoring parameters from ./saved_variable\n",
      "(10000, 28, 28, 1) (10000, 10)\n",
      "---------------------------------------------------------\n",
      "Test loss: 0.34, test accuracy: 90.6%\n",
      "---------------------------------------------------------\n"
     ]
    }
   ],
   "source": [
    "tf.reset_default_graph()\n",
    "# # initialize all of the variables\n",
    "# init_op = tf.global_variables_initializer()# create the graph\n",
    "imported_graph = tf.train.import_meta_graph('saved_variable.meta')\n",
    "# saver = tf.train.Saver()\n",
    "\n",
    "\n",
    "\n",
    "with tf.Session() as sess:\n",
    "    imported_graph.restore(sess, './saved_variable')\n",
    "     \n",
    "    # print the loaded variable\n",
    "    # Test the network when training is done\n",
    "    x_test, y_test = xtest,ytest\n",
    "    print(x_test.shape, y_test.shape)\n",
    "    feed_dict_test = {'Input/X:0': x_test, 'Input/Y:0': y_test}\n",
    "    loss_test, acc_test = sess.run(['Train/Loss/loss:0', 'Train/Accuracy/accuracy:0'], feed_dict=feed_dict_test)\n",
    "    print('---------------------------------------------------------')\n",
    "    print(\"Test loss: {0:.2f}, test accuracy: {1:.01%}\".format(loss_test, acc_test))\n",
    "    print('---------------------------------------------------------')\n"
   ]
  },
  {
   "cell_type": "markdown",
   "metadata": {},
   "source": [
    "## prediction without normalisation and dropout"
   ]
  },
  {
   "cell_type": "code",
   "execution_count": 6,
   "metadata": {},
   "outputs": [
    {
     "name": "stdout",
     "output_type": "stream",
     "text": [
      "INFO:tensorflow:Restoring parameters from ./saved_variable1\n",
      "(10000, 28, 28, 1) (10000, 10)\n",
      "---------------------------------------------------------\n",
      "Test loss: 0.42, test accuracy: 89.5%\n",
      "---------------------------------------------------------\n"
     ]
    }
   ],
   "source": [
    "tf.reset_default_graph()\n",
    "# # initialize all of the variables\n",
    "# init_op = tf.global_variables_initializer()# create the graph\n",
    "imported_graph = tf.train.import_meta_graph('saved_variable1.meta')\n",
    "# saver = tf.train.Saver()\n",
    "\n",
    "\n",
    "\n",
    "with tf.Session() as sess:\n",
    "    imported_graph.restore(sess, './saved_variable1')\n",
    "     \n",
    "    # print the loaded variable\n",
    "    # Test the network when training is done\n",
    "    x_test, y_test = xtest,ytest\n",
    "    print(x_test.shape, y_test.shape)\n",
    "    feed_dict_test = {'Input/X:0': x_test, 'Input/Y:0': y_test}\n",
    "    loss_test, acc_test = sess.run(['Train/Loss/loss:0', 'Train/Accuracy/accuracy:0'], feed_dict=feed_dict_test)\n",
    "    print('---------------------------------------------------------')\n",
    "    print(\"Test loss: {0:.2f}, test accuracy: {1:.01%}\".format(loss_test, acc_test))\n",
    "    print('---------------------------------------------------------')\n"
   ]
  },
  {
   "cell_type": "code",
   "execution_count": null,
   "metadata": {},
   "outputs": [],
   "source": []
  }
 ],
 "metadata": {
  "kernelspec": {
   "display_name": "Python 3",
   "language": "python",
   "name": "python3"
  },
  "language_info": {
   "codemirror_mode": {
    "name": "ipython",
    "version": 3
   },
   "file_extension": ".py",
   "mimetype": "text/x-python",
   "name": "python",
   "nbconvert_exporter": "python",
   "pygments_lexer": "ipython3",
   "version": "3.6.8"
  }
 },
 "nbformat": 4,
 "nbformat_minor": 2
}
